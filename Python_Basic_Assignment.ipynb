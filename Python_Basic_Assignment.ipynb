{
  "nbformat": 4,
  "nbformat_minor": 0,
  "metadata": {
    "colab": {
      "provenance": []
    },
    "kernelspec": {
      "name": "python3",
      "display_name": "Python 3"
    },
    "language_info": {
      "name": "python"
    }
  },
  "cells": [
    {
      "cell_type": "markdown",
      "source": [
        "          Python Basics Questions ;\n",
        "\n",
        "\n",
        "\n",
        "Q.1) What is Python, and why is it popular .?\n",
        "\n",
        "Ans;- Python is a versatile, high-level, interpreted programming language known for its readability and ease of use. It's popular due to its simple syntax, extensive libraries, and adaptability to various fields like web development, data science, and machine learning.\n",
        "\n",
        "Q.2) What is an interpreter in Python ?\n",
        "\n",
        "Ans;- A Python interpreter is a computer program that takes the Python code and converts it into machine code. We also have compilers that translate high-level code into machine code before execution but an interpreter is different. It translates the code you write into instructions that the computer can understand, executing them line by line.\n",
        "\n",
        "Q.3) What are pre-defined keywords in Python ?\n",
        "\n",
        "Ans;- In Python, predefined keywords are reserved words that have special meaning in the language. You cannot use them as identifiers (like variable names, function names, etc.) because they are part of Python’s syntax and structure.\n",
        "\n",
        "Q.4)Can keywords be used as variable names .?\n",
        "\n",
        "Ans;- No, keywords cannot be used as variable names in Python. Keywords are reserved words with specific meanings in the language's syntax and are used to define the structure and logic of Python code.\n",
        "\n",
        "Q.5) What is mutability in Python .?\n",
        "\n",
        "Ans;- Mutability in Python refers to an object's ability to be modified after its creation. Mutable objects can have their contents or state changed without creating a new object. This means that you can directly alter the values held by a mutable object, and the object's identity (memory address) remains the same.\n",
        "\n",
        "Q.6) Why are lists mutable, but tuples are immutable.?\n",
        "\n",
        "Ans;- The primary reason behind lists being mutable and tuples being immutable in Python lies in their design and intended use cases.\n",
        "Lists (Mutable):\n",
        "Dynamic Nature:\n",
        "Lists are designed to be dynamic collections of items. Their mutability allows for efficient modification, adding, or removing elements after creation.\n",
        "Flexibility:\n",
        "This flexibility makes lists suitable for scenarios where the data needs to be frequently altered, such as storing a sequence of items that may change over time.\n",
        "Memory Efficiency:\n",
        "Modifying a list in place is memory-efficient, as it avoids creating a new list every time a change is made.\n",
        "Tuples (Immutable):\n",
        "Data Integrity:\n",
        "Tuples are designed to represent fixed collections of items. Their immutability ensures that the data remains unchanged throughout the program's execution, promoting data integrity and consistency.\n",
        "Safety:\n",
        "Immutability protects against accidental modification of data, which can be crucial in situations where data integrity is paramount.\n",
        "Hashable:\n",
        "Immutable objects like tuples can be used as keys in dictionaries, which is not possible with mutable objects like lists.\n",
        "Performance:\n",
        "Tuples are generally slightly faster than lists for accessing items, as Python can make optimizations knowing that the values in a tuple will never change.\n",
        "\n",
        "\n",
        "Q.7) What is the difference between “==” and “is” operators in Python.?\n",
        "\n",
        "Ans;- == Operator:\n",
        "Checks for equality:\n",
        "The == operator compares the values of two objects. It returns True if the values are equal, and False otherwise.\n",
        "Value-based comparison:\n",
        "It evaluates the content or data held by the objects and determines if they are equivalent.\n",
        "Customizable behavior:\n",
        "The behavior of == can be customized by defining the __eq__ method in a class.\n",
        "\n",
        "is Operator:\n",
        "Checks for identity: The is operator compares the identity of two objects. It returns True only if both operands refer to the exact same object in memory, and False otherwise.\n",
        "Reference-based comparison: It determines if two variables point to the same memory location.\n",
        "Non-customizable behavior: The is operator cannot be overridden or customized.\n",
        "\n",
        "Q.8) What are logical operators in Python .?\n",
        "\n",
        "Ans;- Logical operators in Python are used to combine or modify boolean expressions (True or False). There are three main logical operators:\n",
        "\n",
        "and\tReturns True if both statements are true\n",
        "or\tReturns True if one of the statements is true\n",
        "not\tReverse the result, returns False if the result is true\n",
        "\n",
        "Q.9) What is type casting in Python .?\n",
        "\n",
        "Ans;- Type casting, also known as type conversion, is the process of changing a variable's data type to another. This is essential for ensuring compatibility between different data types and enhancing the versatility of Python code.\n",
        "There are two types of type casting:\n",
        "\n",
        "1)Implicit Type Conversion\n",
        "This occurs automatically when Python converts one data type into another without explicit instructions. For example, when an integer is added to a float, Python automatically converts the integer to a float before performing the addition.\n",
        "\n",
        "2.)Explicit Type Conversion\n",
        "This requires the user to specify the desired data type using built-in functions such as:\n",
        "int(): Converts a value to an integer.\n",
        "float(): Converts a value to a floating-point number.\n",
        "str(): Converts a value to a string.\n",
        "bool(): Converts a value to a boolean.\n",
        "\n",
        "Q.10)  What is the difference between implicit and explicit type casting .?\n",
        "\n",
        "Ans;- Implicit type casting happens automatically when converting data types, while explicit type casting requires a manual instruction from the programmer to convert a value from one type to another. Both methods have their uses and importance in coding.\n",
        "\n",
        "Q.11) What is the purpose of conditional statements in Python .?\n",
        "\n",
        "Ans;- Conditional statements in Python are used to control the flow of execution of a program based on certain conditions. They allow you to execute a specific block of code only if a condition is true, or to execute a different block of code if the condition is false. This enables programs to make decisions and respond differently to various situations.\n",
        "There are three main types of conditional statements in Python:\n",
        "\n",
        "if: This statement executes a block of code if a condition is true.\n",
        "\n",
        "elif: This statement is used in conjunction with an if statement to check multiple conditions. It executes a block of code if the previous if or elif conditions are false, and the current elif condition is true.\n",
        "\n",
        "else: This statement is used in conjunction with an if statement to execute a block of code if all previous conditions (if and elif) are false.\n",
        "\n",
        "Q.12) How does the elif statement work .?\n",
        "\n",
        "Ans;- The code block under the elif statement will be executed only if its condition is true.\n",
        "\n",
        "Q.13) What is the difference between for and while loops ?\n",
        "\n",
        "Ans;- The primary difference between for and while loops lies in their iteration mechanism: for loops iterate over a sequence (like a list or range), while while loops repeat based on a condition.\n",
        "\n",
        "Q.14) Describe a scenario where a while loop is more suitable than a for loop.?\n",
        "\n",
        "Ans;- In contrast to a 'for' loop, which is generally used when the number of iterations is known beforehand, a 'while' loop is ideal for situations where the number of iterations is not predetermined and depends on some dynamic condition.\n",
        "\n",
        "\n",
        "\n",
        "\n",
        "\n",
        "\n",
        "\n",
        "\n",
        "\n",
        "\n",
        "\n",
        "\n"
      ],
      "metadata": {
        "id": "QqvtrCnUQ5x5"
      }
    },
    {
      "cell_type": "code",
      "execution_count": null,
      "metadata": {
        "id": "yE8Dl7QAQGjg"
      },
      "outputs": [],
      "source": []
    },
    {
      "cell_type": "markdown",
      "source": [
        "         Practical Question answers\n",
        "         "
      ],
      "metadata": {
        "id": "qa8fXm6_xpav"
      }
    },
    {
      "cell_type": "code",
      "source": [
        "#Q.1) Write a Python program to print \"Hello, World!\n",
        "print(\"Hello, world!\")\n"
      ],
      "metadata": {
        "colab": {
          "base_uri": "https://localhost:8080/"
        },
        "id": "WK7P-p0Nxyjl",
        "outputId": "4409907b-c11a-4522-bd23-69f7147983c7"
      },
      "execution_count": null,
      "outputs": [
        {
          "output_type": "stream",
          "name": "stdout",
          "text": [
            "Hello, world!\n"
          ]
        }
      ]
    },
    {
      "cell_type": "code",
      "source": [
        "#Q.2) Write a Python program that displays your name and age.?\n",
        "\n",
        "name = input(\"enter your name : \")\n",
        "age = int(input(\"enter your age : \"))\n",
        "\n",
        "\n"
      ],
      "metadata": {
        "id": "sHIfsVrlyWbl",
        "colab": {
          "base_uri": "https://localhost:8080/"
        },
        "outputId": "847860af-3198-4c92-9ef0-9ab24af5666e"
      },
      "execution_count": 2,
      "outputs": [
        {
          "name": "stdout",
          "output_type": "stream",
          "text": [
            "enter your name : lakhan singh\n",
            "enter your age : 26\n"
          ]
        }
      ]
    },
    {
      "cell_type": "code",
      "source": [
        "#Q.3) Write code to print all the pre-defined keywords in Python using the keyword library.?\n",
        "\n",
        "import keyword\n",
        "\n",
        "print(keyword.kwlist)\n"
      ],
      "metadata": {
        "colab": {
          "base_uri": "https://localhost:8080/"
        },
        "id": "At0yp5Zgnd9v",
        "outputId": "1cf74c62-55ae-4dbc-ef3f-09f95215a7af"
      },
      "execution_count": 3,
      "outputs": [
        {
          "output_type": "stream",
          "name": "stdout",
          "text": [
            "['False', 'None', 'True', 'and', 'as', 'assert', 'async', 'await', 'break', 'class', 'continue', 'def', 'del', 'elif', 'else', 'except', 'finally', 'for', 'from', 'global', 'if', 'import', 'in', 'is', 'lambda', 'nonlocal', 'not', 'or', 'pass', 'raise', 'return', 'try', 'while', 'with', 'yield']\n"
          ]
        }
      ]
    },
    {
      "cell_type": "code",
      "source": [
        "#Q.4)  Write a program that checks if a given word is a Python keyword.?\n",
        "\n",
        "import keyword\n",
        "\n",
        "def is_keyword(word):\n",
        "    \"\"\"\n",
        "    Checks if a given word is a Python keyword.\n",
        "\n",
        "    Args:\n",
        "        word: The word to check.\n",
        "\n",
        "    Returns:\n",
        "        True if the word is a keyword, False otherwise.\n",
        "    \"\"\"\n",
        "    return keyword.iskeyword(word)\n",
        "\n",
        "# Example usage\n",
        "word1 = \"for\"\n",
        "word2 = \"hello\"\n",
        "\n",
        "print(f\"'{word1}' is a keyword: {is_keyword(word1)}\")\n",
        "print(f\"'{word2}' is a keyword: {is_keyword(word2)}\")\n",
        "\n"
      ],
      "metadata": {
        "colab": {
          "base_uri": "https://localhost:8080/"
        },
        "id": "CIiuhyqXnqsw",
        "outputId": "339f5912-c567-4960-c452-c69bd76379a0"
      },
      "execution_count": 4,
      "outputs": [
        {
          "output_type": "stream",
          "name": "stdout",
          "text": [
            "'for' is a keyword: True\n",
            "'hello' is a keyword: False\n"
          ]
        }
      ]
    },
    {
      "cell_type": "code",
      "source": [
        "#Q.5)  Create a list and tuple in Python, and demonstrate how attempting to change an element works differently for each?\n",
        "\n",
        "\n",
        "# Creating a list\n",
        "my_list = [1, 2, 3]\n",
        "print(\"Original list:\", my_list)\n",
        "\n",
        "# Modifying an element in the list\n",
        "my_list[0] = 10\n",
        "print(\"Modified list:\", my_list)\n",
        "\n",
        "# Creating a tuple\n",
        "my_tuple = (4, 5, 6)\n",
        "print(\"Original tuple:\", my_tuple)\n",
        "\n",
        "\n",
        "# Attempting to modify an element in the tuple will raise a TypeError\n",
        "try:\n",
        "    my_tuple[0] = 40\n",
        "except TypeError as e:\n",
        "    print(\"Error:\", e)\n",
        "\n",
        "# Attempting to modify a list inside a tuple will work\n",
        "my_tuple_with_list = (7, [8, 9], 10)\n",
        "print(\"Original tuple with list:\", my_tuple_with_list)\n",
        "my_tuple_with_list[1][0] = 80\n",
        "print(\"Modified tuple with list:\", my_tuple_with_list)\n",
        "\n",
        "\n"
      ],
      "metadata": {
        "colab": {
          "base_uri": "https://localhost:8080/"
        },
        "id": "hk2xprBgoN6a",
        "outputId": "645676df-c1e6-46bc-97ca-87effe2cd67b"
      },
      "execution_count": 7,
      "outputs": [
        {
          "output_type": "stream",
          "name": "stdout",
          "text": [
            "Original list: [1, 2, 3]\n",
            "Modified list: [10, 2, 3]\n",
            "Original tuple: (4, 5, 6)\n",
            "Error: 'tuple' object does not support item assignment\n",
            "Original tuple with list: (7, [8, 9], 10)\n",
            "Modified tuple with list: (7, [80, 9], 10)\n"
          ]
        }
      ]
    },
    {
      "cell_type": "code",
      "source": [
        "#Q.6)  Write a function to demonstrate the behavior of mutable and immutable arguments.\n",
        "\n",
        "def modify_arguments(immutable_arg, mutable_arg):\n",
        "    \"\"\"\n",
        "    Demonstrates the behavior of mutable and immutable arguments.\n",
        "\n",
        "    Args:\n",
        "      immutable_arg: An immutable object (e.g., integer, string, tuple).\n",
        "      mutable_arg: A mutable object (e.g., list, dictionary).\n",
        "    \"\"\"\n",
        "    # Attempt to modify the immutable argument\n",
        "    immutable_arg = immutable_arg + 1  # Creates a new object\n",
        "    print(f\"Inside function, immutable_arg: {immutable_arg}\")\n",
        "\n",
        "    # Modify the mutable argument\n",
        "    mutable_arg.append(4) # Modifies the original object\n",
        "    print(f\"Inside function, mutable_arg: {mutable_arg}\")\n",
        "\n",
        "# Example usage\n",
        "immutable_value = 5\n",
        "mutable_value = [1, 2, 3]\n",
        "\n",
        "print(f\"Before function call, immutable_value: {immutable_value}\")\n",
        "print(f\"Before function call, mutable_value: {mutable_value}\")\n",
        "\n",
        "modify_arguments(immutable_value, mutable_value)\n",
        "\n",
        "print(f\"After function call, immutable_value: {immutable_value}\")\n",
        "print(f\"After function call, mutable_value: {mutable_value}\")"
      ],
      "metadata": {
        "colab": {
          "base_uri": "https://localhost:8080/"
        },
        "id": "WdpKM2BlokPc",
        "outputId": "1b61d4d9-0c94-4ac0-a6af-61c7200f08bd"
      },
      "execution_count": 8,
      "outputs": [
        {
          "output_type": "stream",
          "name": "stdout",
          "text": [
            "Before function call, immutable_value: 5\n",
            "Before function call, mutable_value: [1, 2, 3]\n",
            "Inside function, immutable_arg: 6\n",
            "Inside function, mutable_arg: [1, 2, 3, 4]\n",
            "After function call, immutable_value: 5\n",
            "After function call, mutable_value: [1, 2, 3, 4]\n"
          ]
        }
      ]
    },
    {
      "cell_type": "code",
      "source": [
        "#Q.7) Write a program that performs basic arithmetic operations on two user-input numbers.\n",
        "\n",
        "# Get input from the user\n",
        "num1 = float(input(\"Enter the first number: \"))\n",
        "num2 = float(input(\"Enter the second number: \"))\n",
        "\n",
        "# Perform arithmetic operations\n",
        "addition = num1 + num2\n",
        "subtraction = num1 - num2\n",
        "multiplication = num1 * num2\n",
        "division = num1 / num2\n",
        "\n",
        "# Print the results\n",
        "print(\"Addition:\", addition)\n",
        "print(\"Subtraction:\", subtraction)\n",
        "print(\"Multiplication:\", multiplication)\n",
        "print(\"Division:\", division)\n"
      ],
      "metadata": {
        "colab": {
          "base_uri": "https://localhost:8080/"
        },
        "id": "E58CK6DppHds",
        "outputId": "c115956c-6410-4ac5-b653-a413c88632e6"
      },
      "execution_count": 9,
      "outputs": [
        {
          "output_type": "stream",
          "name": "stdout",
          "text": [
            "Enter the first number: 5\n",
            "Enter the second number: 8\n",
            "Addition: 13.0\n",
            "Subtraction: -3.0\n",
            "Multiplication: 40.0\n",
            "Division: 0.625\n"
          ]
        }
      ]
    },
    {
      "cell_type": "code",
      "source": [
        "#Q.8)  Write a program to demonstrate the use of logical operators.\n",
        "\n",
        "# Logical AND (and)\n",
        "x = 5\n",
        "y = 10\n",
        "if x > 0 and y < 20:\n",
        "    print(\"Both conditions are true\")\n",
        "else:\n",
        "    print(\"At least one condition is false\")\n",
        "\n",
        "# Logical OR (or)\n",
        "a = False\n",
        "b = True\n",
        "if a or b:\n",
        "    print(\"At least one condition is true\")\n",
        "else:\n",
        "    print(\"Both conditions are false\")\n",
        "\n",
        "# Logical NOT (not)\n",
        "p = True\n",
        "if not p:\n",
        "    print(\"p is false\")\n",
        "else:\n",
        "    print(\"p is true\")\n",
        "\n",
        "# Combining logical operators\n",
        "temp = 25\n",
        "if temp > 0 and temp < 30 or not temp < 10:\n",
        "    print(\"Temperature is within the normal range\")\n",
        "else:\n",
        "    print(\"Extreme temperature detected\")\n"
      ],
      "metadata": {
        "colab": {
          "base_uri": "https://localhost:8080/"
        },
        "id": "EtTlrkpvuGpi",
        "outputId": "219c9e8f-c498-406a-fbed-a5fed9c26bb0"
      },
      "execution_count": 10,
      "outputs": [
        {
          "output_type": "stream",
          "name": "stdout",
          "text": [
            "Both conditions are true\n",
            "At least one condition is true\n",
            "p is true\n",
            "Temperature is within the normal range\n"
          ]
        }
      ]
    },
    {
      "cell_type": "code",
      "source": [
        "#Q.9)  Write a Python program to convert user input from string to integer, float, and boolean types.\n",
        "\n",
        "def convert_input():\n",
        "    try:\n",
        "        user_input = input(\"Enter a value: \")\n",
        "\n",
        "        # Attempt to convert to integer\n",
        "        try:\n",
        "            integer_value = int(user_input)\n",
        "            print(f\"Integer value: {integer_value}, Type: {type(integer_value)}\")\n",
        "        except ValueError:\n",
        "            print(\"Not a valid integer.\")\n",
        "            integer_value = None\n",
        "\n",
        "        # Attempt to convert to float\n",
        "        try:\n",
        "            float_value = float(user_input)\n",
        "            print(f\"Float value: {float_value}, Type: {type(float_value)}\")\n",
        "        except ValueError:\n",
        "            print(\"Not a valid float.\")\n",
        "            float_value = None\n",
        "\n",
        "        # Attempt to convert to boolean\n",
        "        if user_input.lower() == \"true\":\n",
        "            bool_value = True\n",
        "        elif user_input.lower() == \"false\":\n",
        "            bool_value = False\n",
        "        else:\n",
        "            bool_value = None\n",
        "            print(\"Not a valid boolean (True or False).\")\n",
        "\n",
        "        if bool_value is not None:\n",
        "            print(f\"Boolean value: {bool_value}, Type: {type(bool_value)}\")\n",
        "\n",
        "    except Exception as e:\n",
        "        print(f\"An error occurred: {e}\")\n",
        "\n",
        "convert_input()"
      ],
      "metadata": {
        "colab": {
          "base_uri": "https://localhost:8080/"
        },
        "id": "vcnr7AQLuahK",
        "outputId": "79b14183-8699-4037-acad-e86523affd8b"
      },
      "execution_count": 11,
      "outputs": [
        {
          "output_type": "stream",
          "name": "stdout",
          "text": [
            "Enter a value: 6\n",
            "Integer value: 6, Type: <class 'int'>\n",
            "Float value: 6.0, Type: <class 'float'>\n",
            "Not a valid boolean (True or False).\n"
          ]
        }
      ]
    },
    {
      "cell_type": "code",
      "source": [
        "#Q.10) Write code to demonstrate type casting with list elements.\n",
        "\n",
        "# Initial list with mixed data types\n",
        "my_list = [1, \"2\", 3.0, True, \"hello\"]\n",
        "\n",
        "# Type casting to integers\n",
        "int_list = [int(x) if isinstance(x, (int, float, str)) and str(x).replace('.', '', 1).isdigit() else x for x in my_list]\n",
        "print(\"List after casting to integers:\", int_list)\n",
        "\n",
        "# Type casting to floats\n",
        "float_list = [float(x) if isinstance(x, (int, float, str)) and str(x).replace('.', '', 1).isdigit() else x for x in my_list]\n",
        "print(\"List after casting to floats:\", float_list)\n",
        "\n",
        "# Type casting to strings\n",
        "str_list = [str(x) for x in my_list]\n",
        "print(\"List after casting to strings:\", str_list)\n",
        "\n",
        "# Type casting to booleans\n",
        "bool_list = [bool(x) for x in my_list]\n",
        "print(\"List after casting to booleans:\", bool_list)\n",
        "\n",
        "# Type casting to complex numbers\n",
        "complex_list = [complex(x) if isinstance(x, (int, float)) else x for x in my_list]\n",
        "print(\"List after casting to complex numbers:\", complex_list)\n",
        "\n",
        "\n",
        "\n"
      ],
      "metadata": {
        "colab": {
          "base_uri": "https://localhost:8080/"
        },
        "id": "pybogn8juoQU",
        "outputId": "387d0085-b931-4e7e-9629-ac997e6998e4"
      },
      "execution_count": 12,
      "outputs": [
        {
          "output_type": "stream",
          "name": "stdout",
          "text": [
            "List after casting to integers: [1, 2, 3, True, 'hello']\n",
            "List after casting to floats: [1.0, 2.0, 3.0, True, 'hello']\n",
            "List after casting to strings: ['1', '2', '3.0', 'True', 'hello']\n",
            "List after casting to booleans: [True, True, True, True, True]\n",
            "List after casting to complex numbers: [(1+0j), '2', (3+0j), (1+0j), 'hello']\n"
          ]
        }
      ]
    },
    {
      "cell_type": "code",
      "source": [
        "#Q.11)  Write a program that checks if a number is positive, negative, or zero.\n",
        "\n",
        "def check_number(number):\n",
        "  \"\"\"\n",
        "  Checks if a number is positive, negative, or zero.\n",
        "\n",
        "  Args:\n",
        "    number: The number to check.\n",
        "\n",
        "  Returns:\n",
        "    A string indicating whether the number is positive, negative, or zero.\n",
        "  \"\"\"\n",
        "\n",
        "  if number > 0:\n",
        "    return \"positive\"\n",
        "  elif number < 0:\n",
        "    return \"negative\"\n",
        "  else:\n",
        "    return \"zero\"\n",
        "\n",
        "# Example usage:\n",
        "number = int(input(\"Enter a number: \"))\n",
        "result = check_number(number)\n",
        "print(f\"The number is {result}.\")\n",
        "\n"
      ],
      "metadata": {
        "colab": {
          "base_uri": "https://localhost:8080/"
        },
        "id": "kGQZ1a6Hu55l",
        "outputId": "5722621e-18d3-4c29-f4d6-65af7210359a"
      },
      "execution_count": 13,
      "outputs": [
        {
          "output_type": "stream",
          "name": "stdout",
          "text": [
            "Enter a number: 12\n",
            "The number is positive.\n"
          ]
        }
      ]
    },
    {
      "cell_type": "code",
      "source": [
        "#Q.12)  Write a for loop to print numbers from 1 to 10.\n",
        "\n",
        "for i in range(1, 11):\n",
        "    print(i)\n",
        "\n",
        "\n"
      ],
      "metadata": {
        "colab": {
          "base_uri": "https://localhost:8080/"
        },
        "id": "PpcEqdE7vGcB",
        "outputId": "55bc2d8c-aae2-4ddb-addc-7fb230cd7e4d"
      },
      "execution_count": 14,
      "outputs": [
        {
          "output_type": "stream",
          "name": "stdout",
          "text": [
            "1\n",
            "2\n",
            "3\n",
            "4\n",
            "5\n",
            "6\n",
            "7\n",
            "8\n",
            "9\n",
            "10\n"
          ]
        }
      ]
    },
    {
      "cell_type": "code",
      "source": [
        "#Q.13)  Write a Python program to find the sum of all even numbers between 1 and 50.\n",
        "\n",
        "sum_of_even = 0\n",
        "for number in range(1, 51):\n",
        "    if number % 2 == 0:\n",
        "        sum_of_even += number\n",
        "print(f\"The sum of all even numbers between 1 and 50 is: {sum_of_even}\")"
      ],
      "metadata": {
        "colab": {
          "base_uri": "https://localhost:8080/"
        },
        "id": "XVrzn_GhvWwL",
        "outputId": "ec7db210-bad5-47c9-ce57-c791b7adfc90"
      },
      "execution_count": 15,
      "outputs": [
        {
          "output_type": "stream",
          "name": "stdout",
          "text": [
            "The sum of all even numbers between 1 and 50 is: 650\n"
          ]
        }
      ]
    },
    {
      "cell_type": "code",
      "source": [
        "#Q.14)  Write a program to reverse a string using a while loop.\n",
        "\n",
        "def reverse_string(s):\n",
        "    reversed_s = \"\"\n",
        "    i = len(s) - 1\n",
        "    while i >= 0:\n",
        "        reversed_s += s[i]\n",
        "        i -= 1\n",
        "    return reversed_s\n",
        "\n",
        "input_string = \"hello\"\n",
        "reversed_string = reverse_string(input_string)\n",
        "print(\"Original string:\", input_string)\n",
        "print(\"Reversed string:\", reversed_string)\n"
      ],
      "metadata": {
        "colab": {
          "base_uri": "https://localhost:8080/"
        },
        "id": "IMUmCcccviKc",
        "outputId": "e5083d7e-01ce-4241-e04f-4108765bd4bf"
      },
      "execution_count": 16,
      "outputs": [
        {
          "output_type": "stream",
          "name": "stdout",
          "text": [
            "Original string: hello\n",
            "Reversed string: olleh\n"
          ]
        }
      ]
    },
    {
      "cell_type": "code",
      "source": [
        "#Q.15) Write a Python program to calculate the factorial of a number provided by the user using a while loop.\n",
        "\n",
        "def factorial_while_loop(n):\n",
        "    \"\"\"Calculates the factorial of a non-negative integer using a while loop.\n",
        "\n",
        "    Args:\n",
        "        n: The non-negative integer for which to calculate the factorial.\n",
        "\n",
        "    Returns:\n",
        "        The factorial of n, or None if n is negative.\n",
        "    \"\"\"\n",
        "    if n < 0:\n",
        "        return None  # Factorial is not defined for negative numbers\n",
        "\n",
        "    factorial = 1\n",
        "    while n > 0:\n",
        "        factorial *= n\n",
        "        n -= 1\n",
        "    return factorial\n",
        "\n",
        "if __name__ == \"__main__\":\n",
        "    try:\n",
        "        num = int(input(\"Enter a non-negative integer: \"))\n",
        "        result = factorial_while_loop(num)\n",
        "        if result is not None:\n",
        "            print(f\"The factorial of {num} is {result}\")\n",
        "        else:\n",
        "            print(\"Factorial is not defined for negative numbers.\")\n",
        "    except ValueError:\n",
        "        print(\"Invalid input. Please enter an integer.\")\n",
        ""
      ],
      "metadata": {
        "colab": {
          "base_uri": "https://localhost:8080/"
        },
        "id": "wW7E7EkYvuGr",
        "outputId": "5b3f5a68-55c8-4c57-f157-c1fd40365099"
      },
      "execution_count": 17,
      "outputs": [
        {
          "output_type": "stream",
          "name": "stdout",
          "text": [
            "Enter a non-negative integer: 23\n",
            "The factorial of 23 is 25852016738884976640000\n"
          ]
        }
      ]
    },
    {
      "cell_type": "code",
      "source": [],
      "metadata": {
        "id": "2YLGXbAIv8wU"
      },
      "execution_count": null,
      "outputs": []
    }
  ]
}